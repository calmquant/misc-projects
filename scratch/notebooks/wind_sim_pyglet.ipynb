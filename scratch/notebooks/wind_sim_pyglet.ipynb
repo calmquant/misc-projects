{
 "cells": [
  {
   "cell_type": "code",
   "execution_count": 2,
   "id": "adb9493b",
   "metadata": {},
   "outputs": [],
   "source": [
    "import pyglet"
   ]
  },
  {
   "cell_type": "code",
   "execution_count": 3,
   "id": "47bbcaf1",
   "metadata": {},
   "outputs": [
    {
     "name": "stdout",
     "output_type": "stream",
     "text": [
      "Help on package pyglet:\n",
      "\n",
      "NAME\n",
      "    pyglet - pyglet is a cross-platform games and multimedia package.\n",
      "\n",
      "DESCRIPTION\n",
      "    Detailed documentation is available at http://www.pyglet.org\n",
      "\n",
      "PACKAGE CONTENTS\n",
      "    app (package)\n",
      "    canvas (package)\n",
      "    clock\n",
      "    com\n",
      "    event\n",
      "    extlibs (package)\n",
      "    font (package)\n",
      "    gl (package)\n",
      "    graphics (package)\n",
      "    gui (package)\n",
      "    image (package)\n",
      "    info\n",
      "    input (package)\n",
      "    lib\n",
      "    libs (package)\n",
      "    math\n",
      "    media (package)\n",
      "    model (package)\n",
      "    resource\n",
      "    shapes\n",
      "    sprite\n",
      "    text (package)\n",
      "    util\n",
      "    window (package)\n",
      "\n",
      "DATA\n",
      "    TYPE_CHECKING = False\n",
      "    app = <pyglet._ModuleProxy object>\n",
      "    canvas = <pyglet._ModuleProxy object>\n",
      "    clock = <pyglet._ModuleProxy object>\n",
      "    com = <pyglet._ModuleProxy object>\n",
      "    compat_platform = 'darwin'\n",
      "    event = <pyglet._ModuleProxy object>\n",
      "    font = <pyglet._ModuleProxy object>\n",
      "    gl = <pyglet._ModuleProxy object>\n",
      "    graphics = <pyglet._ModuleProxy object>\n",
      "    gui = <pyglet._ModuleProxy object>\n",
      "    image = <pyglet._ModuleProxy object>\n",
      "    input = <pyglet._ModuleProxy object>\n",
      "    lib = <pyglet._ModuleProxy object>\n",
      "    math = <pyglet._ModuleProxy object>\n",
      "    media = <pyglet._ModuleProxy object>\n",
      "    model = <pyglet._ModuleProxy object>\n",
      "    options = {'advanced_font_features': False, 'audio': ('xaudio2', 'dire...\n",
      "    resource = <pyglet._ModuleProxy object>\n",
      "    shapes = <pyglet._ModuleProxy object>\n",
      "    sprite = <pyglet._ModuleProxy object>\n",
      "    text = <pyglet._ModuleProxy object>\n",
      "    version = '1.5.23'\n",
      "    window = <pyglet._ModuleProxy object>\n",
      "\n",
      "FILE\n",
      "    /Users/calm/code/anaconda3/envs/dev/lib/python3.10/site-packages/pyglet/__init__.py\n",
      "\n",
      "\n"
     ]
    }
   ],
   "source": [
    "help(pyglet)"
   ]
  },
  {
   "cell_type": "code",
   "execution_count": null,
   "id": "4ff36c3e",
   "metadata": {},
   "outputs": [],
   "source": []
  }
 ],
 "metadata": {
  "kernelspec": {
   "display_name": "Python 3 (ipykernel)",
   "language": "python",
   "name": "python3"
  },
  "language_info": {
   "codemirror_mode": {
    "name": "ipython",
    "version": 3
   },
   "file_extension": ".py",
   "mimetype": "text/x-python",
   "name": "python",
   "nbconvert_exporter": "python",
   "pygments_lexer": "ipython3",
   "version": "3.10.4"
  }
 },
 "nbformat": 4,
 "nbformat_minor": 5
}
