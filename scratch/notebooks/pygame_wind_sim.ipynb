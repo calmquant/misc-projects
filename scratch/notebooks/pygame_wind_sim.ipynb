{
 "cells": [
  {
   "cell_type": "code",
   "execution_count": 2,
   "id": "d1bf9644",
   "metadata": {},
   "outputs": [
    {
     "name": "stdout",
     "output_type": "stream",
     "text": [
      "pygame 2.1.2 (SDL 2.0.18, Python 3.10.4)\n",
      "Hello from the pygame community. https://www.pygame.org/contribute.html\n"
     ]
    }
   ],
   "source": [
    "import pygame"
   ]
  },
  {
   "cell_type": "code",
   "execution_count": null,
   "id": "8357c2d0",
   "metadata": {
    "ExecuteTime": {
     "end_time": "2022-04-27T20:21:37.014933Z",
     "start_time": "2022-04-27T20:21:37.001764Z"
    }
   },
   "outputs": [],
   "source": []
  },
  {
   "cell_type": "code",
   "execution_count": 28,
   "id": "f45b4bdb",
   "metadata": {
    "ExecuteTime": {
     "end_time": "2022-04-27T20:48:10.101190Z",
     "start_time": "2022-04-27T20:48:10.086373Z"
    }
   },
   "outputs": [
    {
     "data": {
      "text/plain": [
       "__main__.Point"
      ]
     },
     "execution_count": 28,
     "metadata": {},
     "output_type": "execute_result"
    }
   ],
   "source": [
    "import math\n",
    "import numpy as np\n",
    "class Point(np.ndarray):\n",
    "    def __new__(cls, *args, **kwargs):    \n",
    "        return super(Point, cls).__new__(cls, shape = (len(args), ), **kwargs)\n",
    "    \n",
    "    def __init__(self, *args):\n",
    "        self[:] = args\n",
    "\n",
    "    @property\n",
    "    def dims(self):\n",
    "        return len(self)\n",
    "    \n",
    "    def distance(self, other):\n",
    "        assert self.dims == other.dims, f'Points have different dimensions: {self.dims} and {other.dims}'\n",
    "        return (self - other).length()\n",
    "    \n",
    "    @property\n",
    "    def length(self):\n",
    "        return math.sqrt((self*self).sum())\n",
    "Vector = Point # dirty hack\n",
    "\n",
    "# class Vector(np.ndarray):\n",
    "#     def __new__(cls, *args, **kwargs):    \n",
    "#         return super(Point, cls).__new__(cls, shape = (len(args), ), **kwargs)\n",
    "    \n",
    "#     def __init__(self, *args):\n",
    "#         print(args)\n",
    "#         self[:] = args\n",
    "\n",
    "#     @property\n",
    "#     def dims(self):\n",
    "#         return len(self)\n",
    "p1 = Point(1,2)\n",
    "p2 = Point(3,4)\n",
    "type(p1 + p2)"
   ]
  },
  {
   "cell_type": "code",
   "execution_count": 33,
   "id": "968e8561",
   "metadata": {
    "ExecuteTime": {
     "end_time": "2022-04-27T21:13:58.531026Z",
     "start_time": "2022-04-27T21:13:58.519331Z"
    }
   },
   "outputs": [],
   "source": []
  },
  {
   "cell_type": "code",
   "execution_count": null,
   "id": "de40880c",
   "metadata": {},
   "outputs": [],
   "source": [
    "import random \n",
    "#random.random()\tReturns a random float number between 0 and 1\n",
    "# random.uniform(10.5, 75.5)\tReturns a random float number between a range\n",
    "# round(random.uniform(33.33, 66.66), 2)\tReturns a random float number up to 2 decimal places\n",
    "# random.SystemRandom().uniform(5, 10)\tReturns a secure random float number\n",
    "# numpy.random.uniform()\tReturns a random array of floats"
   ]
  },
  {
   "cell_type": "code",
   "execution_count": 30,
   "id": "0a05eb49",
   "metadata": {
    "ExecuteTime": {
     "end_time": "2022-04-27T20:57:13.599599Z",
     "start_time": "2022-04-27T20:57:13.586899Z"
    }
   },
   "outputs": [],
   "source": [
    "from dataclasses import dataclass\n",
    "from enum import Enum\n",
    "\n",
    "class Shape(Enum):\n",
    "    Box = 1\n",
    "    Sphere = 2\n",
    "    Planet = 3\n",
    "    MobiusBox = 4\n",
    "\n",
    "REQUIRED_DIMENSIONS = {\n",
    "    Shape.Box: {'length', 'width',  'height'}\n",
    "}\n",
    "\n",
    "    \n",
    "DEFAULT_T = 1\n",
    "DEFAULT_M = 1\n",
    "\n",
    "class Particle:\n",
    "    # coordinates\n",
    "    coordinates: Point\n",
    "    # temperature\n",
    "    T: float #todo: rename to temperature\n",
    "    # mass\n",
    "    m: float # todo: rename to mass\n",
    "    \n",
    "    \n",
    "    # Pressure\n",
    "    \n",
    "    # calculated: total pressure from all neighbours\n",
    "    # Volume\n",
    "    # T * m / P\n",
    "    def volume(self):\n",
    "        return self.T * self.m / self.pressure\n",
    "    \n",
    "    def __init__(self, x, y, z, T=DEFAULT_T, m=DEFAULT_M):\n",
    "        self.coordinates = Point(x,y,z)\n",
    "        self.T = T\n",
    "        self.m = m\n",
    "SUPPORTED_SHAPES = {\n",
    "    Shape.Box\n",
    "}    \n",
    "class Simulation:\n",
    "    # Space borders\n",
    "    def __init__(num_particles: int, shape: Shape, dimensions: dict):\n",
    "        if shape not in SUPPORTED_SHAPES:\n",
    "            raise NotImplemented(\"The shape {shape} is not yet supported\")\n",
    "        # shape\n",
    "        self.shape = shape\n",
    "        # check dimensions\n",
    "        if not set(dimensions.keys()) == REQUIRED_DIMENSIONS[shape]:\n",
    "            raise ValueError(f\"Shape {shape} requires following dimensions: {REQUIRED_DIMENSIONS[shape]}\")\n",
    "        \n",
    "        self.particles = []\n",
    "        # generate particles\n",
    "        if shape == Shape.Box:\n",
    "            # borders: 6 planes with equations\n",
    "            # x = 0, x = self.lenght\n",
    "            # y = 0, y = self.width\n",
    "            # z = 0, z = self.height\n",
    "            self.length = dimensions['length']\n",
    "            self.width = dimensions['width']\n",
    "            self.height = dimensions['height']\n",
    "        \n",
    "            # random\n",
    "            for _ in range(num_particles):\n",
    "                x = random.random() * self.length\n",
    "                y = random.random() * self.width\n",
    "                z = random.random() * self.height\n",
    "                particle = Particle(x,y,z,DEFAULT_T, DEFAULT_M)\n",
    "                self.particles.append(particle)\n",
    "            \n",
    "        \n",
    "    \n",
    "    # interactive simulation with forward-moving time\n",
    "    def update_positions(self, dt):\n",
    "        for particle in self.particles:\n",
    "            # calculate forces between particles\n",
    "            total_force = Vector(0,0,0)\n",
    "            pressure = 0\n",
    "            for other_particle in self.particles:\n",
    "                if other_particle is particle:\n",
    "                    continue\n",
    "                \n",
    "                # direction = self.position - other.position\n",
    "                # value = T / distance\n",
    "                diff = particle.coordinates - other_particle.coordinates\n",
    "                force = (particle.T + other_particle.T) * diff / diff.length **2\n",
    "                total_force += force\n",
    "                total_pressure += force.length\n",
    "                \n",
    "\n",
    "            # update positions \n",
    "\n",
    "            # check border collisions, bounce off the borders.\n",
    "            pass\n",
    "    "
   ]
  },
  {
   "cell_type": "code",
   "execution_count": null,
   "id": "e232e34b",
   "metadata": {},
   "outputs": [],
   "source": [
    "pygame.draw.circle"
   ]
  },
  {
   "cell_type": "code",
   "execution_count": 32,
   "id": "6bc95de5",
   "metadata": {
    "ExecuteTime": {
     "end_time": "2022-04-27T21:05:22.770290Z",
     "start_time": "2022-04-27T21:05:22.750170Z"
    },
    "code_folding": [
     18
    ]
   },
   "outputs": [
    {
     "ename": "IndentationError",
     "evalue": "unindent does not match any outer indentation level (<tokenize>, line 135)",
     "output_type": "error",
     "traceback": [
      "\u001b[0;36m  File \u001b[0;32m<tokenize>:135\u001b[0;36m\u001b[0m\n\u001b[0;31m    simulation = Simulation(num_particles=DEFAULT_NUM_PARTICLES,shape=DEFUALT_SHAPE,dimensions=DEFAULT_DIMENSIONS)\u001b[0m\n\u001b[0m    ^\u001b[0m\n\u001b[0;31mIndentationError\u001b[0m\u001b[0;31m:\u001b[0m unindent does not match any outer indentation level\n"
     ]
    }
   ],
   "source": [
    "\n",
    "    \n",
    "import pygame\n",
    "import math\n",
    "pygame.init()\n",
    "\n",
    "WIDTH, HEIGHT =  800, 800\n",
    "WIN = pygame.display.set_mode((WIDTH, HEIGHT))\n",
    "pygame.display.set_caption(\"Planet Simulation\")\n",
    "\n",
    "WHITE = (255, 255, 255)\n",
    "YELLOW = (255, 255, 0)\n",
    "BLUE = (100, 149, 237)\n",
    "RED = (188, 39, 50)\n",
    "DARK_GREY = (80, 78, 81)\n",
    "\n",
    "FONT = pygame.font.SysFont(\"comicsans\", 16)\n",
    "\n",
    "class Planet:\n",
    "\tAU = 149.6e6 * 1000\n",
    "\tG = 6.67428e-11\n",
    "\tSCALE = 250 / AU  # 1AU = 100 pixels\n",
    "\tTIMESTEP = 3600*24 # 1 day\n",
    "\n",
    "\tdef __init__(self, x, y, radius, color, mass):\n",
    "\t\tself.x = x\n",
    "\t\tself.y = y\n",
    "\t\tself.radius = radius\n",
    "\t\tself.color = color\n",
    "\t\tself.mass = mass\n",
    "\n",
    "\t\tself.orbit = []\n",
    "\t\tself.sun = False\n",
    "\t\tself.distance_to_sun = 0\n",
    "\n",
    "\t\tself.x_vel = 0\n",
    "\t\tself.y_vel = 0\n",
    "\n",
    "\tdef draw(self, win):\n",
    "\t\tx = self.x * self.SCALE + WIDTH / 2\n",
    "\t\ty = self.y * self.SCALE + HEIGHT / 2\n",
    "\n",
    "\t\tif len(self.orbit) > 2:\n",
    "\t\t\tupdated_points = []\n",
    "\t\t\tfor point in self.orbit:\n",
    "\t\t\t\tx, y = point\n",
    "\t\t\t\tx = x * self.SCALE + WIDTH / 2\n",
    "\t\t\t\ty = y * self.SCALE + HEIGHT / 2\n",
    "\t\t\t\tupdated_points.append((x, y))\n",
    "\n",
    "\t\t\tpygame.draw.lines(win, self.color, False, updated_points, 2)\n",
    "\n",
    "\t\tpygame.draw.circle(win, self.color, (x, y), self.radius)\n",
    "\t\t\n",
    "\t\tif not self.sun:\n",
    "\t\t\tdistance_text = FONT.render(f\"{round(self.distance_to_sun/1000, 1)}km\", 1, WHITE)\n",
    "\t\t\twin.blit(distance_text, (x - distance_text.get_width()/2, y - distance_text.get_height()/2))\n",
    "\n",
    "\tdef attraction(self, other):\n",
    "\t\tother_x, other_y = other.x, other.y\n",
    "\t\tdistance_x = other_x - self.x\n",
    "\t\tdistance_y = other_y - self.y\n",
    "\t\tdistance = math.sqrt(distance_x ** 2 + distance_y ** 2)\n",
    "\n",
    "\t\tif other.sun:\n",
    "\t\t\tself.distance_to_sun = distance\n",
    "\n",
    "\t\tforce = self.G * self.mass * other.mass / distance**2\n",
    "\t\ttheta = math.atan2(distance_y, distance_x)\n",
    "\t\tforce_x = math.cos(theta) * force\n",
    "\t\tforce_y = math.sin(theta) * force\n",
    "\t\treturn force_x, force_y\n",
    "\n",
    "\tdef update_position(self, planets):\n",
    "\t\ttotal_fx = total_fy = 0\n",
    "\t\tfor planet in planets:\n",
    "\t\t\tif self == planet:\n",
    "\t\t\t\tcontinue\n",
    "\n",
    "\t\t\tfx, fy = self.attraction(planet)\n",
    "\t\t\ttotal_fx += fx\n",
    "\t\t\ttotal_fy += fy\n",
    "\n",
    "\t\tself.x_vel += total_fx / self.mass * self.TIMESTEP\n",
    "\t\tself.y_vel += total_fy / self.mass * self.TIMESTEP\n",
    "\n",
    "\t\tself.x += self.x_vel * self.TIMESTEP\n",
    "\t\tself.y += self.y_vel * self.TIMESTEP\n",
    "\t\tself.orbit.append((self.x, self.y))\n",
    "\n",
    "        \n",
    "DEFAULT_ZOOM = 1\n",
    "\n",
    "class Camera:\n",
    "    # position \n",
    "    center: Point\n",
    "    # direction\n",
    "    direction: Point # vector\n",
    "    # todo: and also camera orientation! Which way is up.\n",
    "    # zoom, e.g. camera angle\n",
    "    zoom: float\n",
    "    # todo: there's also a setting to prevent drawing objects too close to the camera or behind the camera.\n",
    "    \n",
    "    def __init__(self, center:tuple, direction:tuple, zoom = DEFAULT_ZOOM):\n",
    "        self.center = Point(*center)\n",
    "        self.direction = Point(*direction)\n",
    "        self.direction /= self.direction.length()\n",
    "        self.zoom = zoom\n",
    "\n",
    "def draw(simulation: , camera, window, window_size):\n",
    "    # draw all particles\n",
    "        # size = Volume\n",
    "        # color = Temperature\n",
    "        # trail?\n",
    "    for particle in simulation.particles:\n",
    "        # flat projection\n",
    "        # \n",
    "        point = particle.coordinates\n",
    "        normale = point - camera.center\n",
    "        projected_point = point - camera.direction * (camera.direction * (point - camera.center)).sum()\n",
    "        \n",
    "        # i now need to get the 2d coordinates of the point...\n",
    "        # todo\n",
    "        # for now let's assume the camera always points vertically up, and after projection \n",
    "        \n",
    "        # if the point is in the field of view\n",
    "        if camera.center.distance(projected_point) > zoom:\n",
    "            color = WHITE\n",
    "            # todo: calculate color based on temp. something like gradient.\n",
    "            # color = round((RED * T + BLUE * (RED_TEMPERATURE-T))/RED_TEMPERATURE)\n",
    "            x, y, z = point\n",
    "            pygame.draw.circle(win, color, (x, y), self.radius)\n",
    "            \n",
    "        \n",
    "    # draw borders\n",
    "    if simulation.shape == Shape.Box:\n",
    "        pass #todo\n",
    "        \n",
    "DEFAULT_NUM_PARTICLES = 100\n",
    "DEFUALT_SHAPE = Shape.Box\n",
    "DEFAULT_DIMENSIONS = {'lenght':0.5,'width':0.5,'height':0.5}\n",
    "\n",
    "DEFAULT_CAMERA_CENTER = (0,0,0)\n",
    "DEFAULT_CAMERA_DIRECTION = (0,0,1)\n",
    "\n",
    "def main():\n",
    "\trun = True\n",
    "\tclock = pygame.time.Clock()\n",
    "    \n",
    "    simulation = Simulation(num_particles=DEFAULT_NUM_PARTICLES,shape=DEFUALT_SHAPE,dimensions=DEFAULT_DIMENSIONS)\n",
    "    camera = Camera(DEFAULT_CAMERA_CENTER, DEFAULT_CAMERA_DIRECTION, DEFAULT_ZOOM)\n",
    "    \n",
    "\n",
    "\twhile run:\n",
    "\t\tclock.tick(60)\n",
    "\t\tWIN.fill((0, 0, 0))\n",
    "\n",
    "\t\tfor event in pygame.event.get():\n",
    "\t\t\tif event.type == pygame.QUIT:\n",
    "\t\t\t\trun = False\n",
    "                \n",
    "            # update camera positions with mouse\n",
    "            # todo\n",
    "        \n",
    "        simulation.update_positions(dt=SPEED)\n",
    "        draw(simulation, camera, WIN, (WIDTH, HEIGHT))\n",
    "\n",
    "\t\tpygame.display.update()\n",
    "\n",
    "\tpygame.quit()\n",
    "\n",
    "\n",
    "main()"
   ]
  },
  {
   "cell_type": "code",
   "execution_count": 9,
   "id": "c714ff69",
   "metadata": {
    "ExecuteTime": {
     "end_time": "2022-04-27T20:17:22.246463Z",
     "start_time": "2022-04-27T20:17:22.231517Z"
    }
   },
   "outputs": [
    {
     "data": {
      "text/plain": [
       "array([4, 6])"
      ]
     },
     "execution_count": 9,
     "metadata": {},
     "output_type": "execute_result"
    }
   ],
   "source": [
    "import numpy as np\n",
    "x = np.array([1,2])\n",
    "y = np.array([3,4])\n",
    "x + y"
   ]
  },
  {
   "cell_type": "code",
   "execution_count": null,
   "id": "b7ff90a1",
   "metadata": {},
   "outputs": [],
   "source": []
  }
 ],
 "metadata": {
  "kernelspec": {
   "display_name": "Python 3 (ipykernel)",
   "language": "python",
   "name": "python3"
  },
  "language_info": {
   "codemirror_mode": {
    "name": "ipython",
    "version": 3
   },
   "file_extension": ".py",
   "mimetype": "text/x-python",
   "name": "python",
   "nbconvert_exporter": "python",
   "pygments_lexer": "ipython3",
   "version": "3.10.4"
  }
 },
 "nbformat": 4,
 "nbformat_minor": 5
}
